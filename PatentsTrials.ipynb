{
 "cells": [
  {
   "cell_type": "markdown",
   "metadata": {
    "deletable": true,
    "editable": true
   },
   "source": [
    "# 10 years of Ericsson Patents Analysed"
   ]
  },
  {
   "cell_type": "markdown",
   "metadata": {
    "deletable": true,
    "editable": true
   },
   "source": [
    "## Imports and parameter selection\n",
    "Analysis can be done for any compagny from a start date onward.\n",
    "First step is to download the data files from the USPTO at: http://www.patentsview.org/download/ .\n",
    "We will need the assignee, inventor, patent, patent_assignee and patent_inventor."
   ]
  },
  {
   "cell_type": "code",
   "execution_count": 3,
   "metadata": {
    "collapsed": false,
    "deletable": true,
    "editable": true
   },
   "outputs": [],
   "source": [
    "import pandas as pd\n",
    "from datetime import datetime\n",
    "import hashlib\n",
    "\n",
    "compagny = 'Ericsson'\n",
    "start_date = '2006-01-01'"
   ]
  },
  {
   "cell_type": "markdown",
   "metadata": {
    "deletable": true,
    "editable": true
   },
   "source": [
    "## Import assignee data and Filter\n",
    "Load in assignee and filter to reduce size.\n",
    "Keep only the ones matching the organization of interest."
   ]
  },
  {
   "cell_type": "code",
   "execution_count": 4,
   "metadata": {
    "collapsed": false,
    "deletable": true,
    "editable": true
   },
   "outputs": [
    {
     "name": "stdout",
     "output_type": "stream",
     "text": [
      "We now consider 61 assignee related to Ericsson.\n"
     ]
    },
    {
     "data": {
      "text/html": [
       "<div>\n",
       "<table border=\"1\" class=\"dataframe\">\n",
       "  <thead>\n",
       "    <tr style=\"text-align: right;\">\n",
       "      <th></th>\n",
       "      <th>id</th>\n",
       "      <th>type</th>\n",
       "      <th>name_first</th>\n",
       "      <th>name_last</th>\n",
       "      <th>organization</th>\n",
       "    </tr>\n",
       "  </thead>\n",
       "  <tbody>\n",
       "    <tr>\n",
       "      <th>7257</th>\n",
       "      <td>04b906651f577930baee601f138176a8</td>\n",
       "      <td>3.0</td>\n",
       "      <td>NaN</td>\n",
       "      <td>NaN</td>\n",
       "      <td>Telefonaktiebolaget LM Ericsson (publ)</td>\n",
       "    </tr>\n",
       "    <tr>\n",
       "      <th>15056</th>\n",
       "      <td>09f1e45a46f55d3049ef23fbce9f4cfd</td>\n",
       "      <td>3.0</td>\n",
       "      <td>NaN</td>\n",
       "      <td>NaN</td>\n",
       "      <td>Telafonaktiebolaget LM Ericsson</td>\n",
       "    </tr>\n",
       "    <tr>\n",
       "      <th>24153</th>\n",
       "      <td>0ff2dad8213e59c2b302e9d1d719b03a</td>\n",
       "      <td>2.0</td>\n",
       "      <td>NaN</td>\n",
       "      <td>NaN</td>\n",
       "      <td>Ericsson Messaging Systems Inc.</td>\n",
       "    </tr>\n",
       "    <tr>\n",
       "      <th>27361</th>\n",
       "      <td>1200a07f7cf63b5f12831db703b03350</td>\n",
       "      <td>2.0</td>\n",
       "      <td>NaN</td>\n",
       "      <td>NaN</td>\n",
       "      <td>Anaconda-Ericsson, Inc.</td>\n",
       "    </tr>\n",
       "  </tbody>\n",
       "</table>\n",
       "</div>"
      ],
      "text/plain": [
       "                                     id  type name_first name_last  \\\n",
       "7257   04b906651f577930baee601f138176a8   3.0        NaN       NaN   \n",
       "15056  09f1e45a46f55d3049ef23fbce9f4cfd   3.0        NaN       NaN   \n",
       "24153  0ff2dad8213e59c2b302e9d1d719b03a   2.0        NaN       NaN   \n",
       "27361  1200a07f7cf63b5f12831db703b03350   2.0        NaN       NaN   \n",
       "\n",
       "                                 organization  \n",
       "7257   Telefonaktiebolaget LM Ericsson (publ)  \n",
       "15056         Telafonaktiebolaget LM Ericsson  \n",
       "24153         Ericsson Messaging Systems Inc.  \n",
       "27361                 Anaconda-Ericsson, Inc.  "
      ]
     },
     "execution_count": 4,
     "metadata": {},
     "output_type": "execute_result"
    }
   ],
   "source": [
    "assignee = pd.read_csv('assignee.tsv', \n",
    "                       dtype={'id': 'str', \n",
    "                              'type': 'float', # since some NaN \n",
    "                              'name_first': 'str', \n",
    "                              'name_last': 'str', \n",
    "                              'organization': 'str'}, \n",
    "                       sep='\\t', \n",
    "                       encoding='latin_1')\n",
    "assignee = assignee[assignee.organization.str.contains(compagny).fillna(value=False)]\n",
    "print('We now consider {} assignee related to {}.'.format(len(assignee),compagny))\n",
    "assignee.head(4)"
   ]
  },
  {
   "cell_type": "code",
   "execution_count": 5,
   "metadata": {
    "collapsed": false,
    "deletable": true,
    "editable": true
   },
   "outputs": [
    {
     "data": {
      "text/plain": [
       "array(['Telefonaktiebolaget LM Ericsson (publ)',\n",
       "       'Telafonaktiebolaget LM Ericsson',\n",
       "       'Ericsson Messaging Systems Inc.', 'Anaconda-Ericsson, Inc.',\n",
       "       'Ericsson Enterprise GmbH', 'ST-Ericsson PVT. Ltd.',\n",
       "       'Ericsson Austria AG', 'Ericsson Mobile Communications AB',\n",
       "       'ST-Ericsson (France) SAS',\n",
       "       'Ericsson GE Mobile Communications Inc.',\n",
       "       'Telfonaktiebolaget LM Ericsson (publ)',\n",
       "       'Lefonaktiebolaget LM Ericsson (publ)',\n",
       "       'Telefonaktiebolaget LN Ericsson',\n",
       "       'Telefonaktieblaget L M Ericsson',\n",
       "       'Relefonaktiebolaget L M Ericsson',\n",
       "       'Telefon Aktie Bolaget LM Ericsson',\n",
       "       'Ericsson Technology Licensing AB',\n",
       "       'Ericsson Telecomunicacoes S.A.',\n",
       "       'Ericsson Invention Ireland Limited',\n",
       "       'Ericsson Business Networks AB', 'Ericsson-LG Enterprise Co., Ltd.',\n",
       "       'Ericsson Inc. Research', 'Teefonaktiebolaget L M Ericsson (Publ)',\n",
       "       'Telefonaktiegolaget IM Ericsson                                            ',\n",
       "       'ST-Ericsson India Pvt. Ltd.',\n",
       "       'Societe Francaise des Telephones Ericsson',\n",
       "       'Telefonakiebolaget LM Ericsson', 'L. M. Ericsson Pty. Ltd.',\n",
       "       'Ericsson Modems SA', 'Telefonaktie Bolaget LM Ericsson (publ)',\n",
       "       'Ericsson Paging Systems B.V.',\n",
       "       'Sony Ericsson Mobile Communication AB',\n",
       "       'Telefonaktiengesellschaft LM Ericsson',\n",
       "       'Telefonaktiebolaget L M Ericsson, A Corp. of Sweden',\n",
       "       'Ericsson Radio Systems B.V.',\n",
       "       'Elefonaktiebolaget L M Ericsson (Publ)', 'Ericsson AB',\n",
       "       'Ericsson Business Mobile Networks B.V.',\n",
       "       'Telefonaktibolaget L M Ericsson',\n",
       "       'Telefunaktiebolaget LM Ericsson (publ)',\n",
       "       'Societe des Telephones Ste (Thomson-Ericsson)',\n",
       "       'Thorn-Ericsson Telecommunications (Mfg.) Limited',\n",
       "       'Telefonaktie L M Ericsson (publ)',\n",
       "       'Telefonaictiebolaget LM Ericsson (publ)',\n",
       "       'Telefonatiebolaget L.M. Ericsson Telefonplan',\n",
       "       'Ericsson Raynet                                                            ',\n",
       "       'Ericsson Austria Aktiengesellschaft', 'Ericsson Inc.',\n",
       "       'Ericsson Australia Pty Ltd.', 'Saab Ericsson Space AB',\n",
       "       'Ericsson TelecomCable', 'Sony Ericsson Mobile',\n",
       "       'ST-Ericsson (Grenoble) SAS', 'Telefon Akmebolget LM Ericsson',\n",
       "       'ST-Ericsson SA, En Liquidation', 'ST-Ericsson SA',\n",
       "       'Telelfonaktebolaget LM Ericsson                                            ',\n",
       "       'Sony Ericsson Communications AB', 'Ericsson Television Inc.',\n",
       "       'Sony Ericsson Mobile Communications AB'], dtype=object)"
      ]
     },
     "execution_count": 5,
     "metadata": {},
     "output_type": "execute_result"
    }
   ],
   "source": [
    "# We might have to further filter the organizations if some are deemed not part of the scope.\n",
    "assignee.organization.unique()"
   ]
  },
  {
   "cell_type": "markdown",
   "metadata": {
    "deletable": true,
    "editable": true
   },
   "source": [
    "## Import patent assignee\n",
    "Load in patent assignee and filter to reduce size.\n",
    "Choose only patent which have one of the patent assignee for the organization of interest."
   ]
  },
  {
   "cell_type": "code",
   "execution_count": 6,
   "metadata": {
    "collapsed": false,
    "deletable": true,
    "editable": true
   },
   "outputs": [
    {
     "name": "stdout",
     "output_type": "stream",
     "text": [
      "We now consider 17261 patents/assignee related to Ericsson.\n",
      "17244 patents.\n",
      "61 assignees.\n"
     ]
    },
    {
     "data": {
      "text/html": [
       "<div>\n",
       "<table border=\"1\" class=\"dataframe\">\n",
       "  <thead>\n",
       "    <tr style=\"text-align: right;\">\n",
       "      <th></th>\n",
       "      <th>patent_id</th>\n",
       "      <th>assignee_id</th>\n",
       "    </tr>\n",
       "  </thead>\n",
       "  <tbody>\n",
       "    <tr>\n",
       "      <th>35262</th>\n",
       "      <td>9436453</td>\n",
       "      <td>cab8bea421bb2dac405fd3d14099851a</td>\n",
       "    </tr>\n",
       "    <tr>\n",
       "      <th>35263</th>\n",
       "      <td>9497188</td>\n",
       "      <td>cab8bea421bb2dac405fd3d14099851a</td>\n",
       "    </tr>\n",
       "    <tr>\n",
       "      <th>121205</th>\n",
       "      <td>9489109</td>\n",
       "      <td>89ab9855fcd847494ed5ee0b97bca89a</td>\n",
       "    </tr>\n",
       "    <tr>\n",
       "      <th>124260</th>\n",
       "      <td>9407534</td>\n",
       "      <td>239c99670a20bca25395649d9cfa9f96</td>\n",
       "    </tr>\n",
       "  </tbody>\n",
       "</table>\n",
       "</div>"
      ],
      "text/plain": [
       "       patent_id                       assignee_id\n",
       "35262    9436453  cab8bea421bb2dac405fd3d14099851a\n",
       "35263    9497188  cab8bea421bb2dac405fd3d14099851a\n",
       "121205   9489109  89ab9855fcd847494ed5ee0b97bca89a\n",
       "124260   9407534  239c99670a20bca25395649d9cfa9f96"
      ]
     },
     "execution_count": 6,
     "metadata": {},
     "output_type": "execute_result"
    }
   ],
   "source": [
    "patent_assignee = pd.read_csv('patent_assignee.tsv', \n",
    "                              dtype={'patent_id' : 'str',\n",
    "                                     'assignee_id' : 'str'},\n",
    "                              sep='\\t', \n",
    "                              encoding='latin_1')\n",
    "patent_assignee = patent_assignee[patent_assignee.assignee_id.isin(assignee.id.unique())]\n",
    "print('We now consider {} patents/assignee related to {}.'.format(len(patent_assignee),compagny))\n",
    "print('{} patents.'.format(len(patent_assignee.patent_id.unique())))\n",
    "print('{} assignees.'.format(len(patent_assignee.assignee_id.unique())))\n",
    "patent_assignee.head(4)"
   ]
  },
  {
   "cell_type": "markdown",
   "metadata": {
    "deletable": true,
    "editable": true
   },
   "source": [
    "## Import patent inventors\n",
    "Load in patent inventors and filter to reduce size.\n",
    "Choose only inventors for which the patent is assigned to an assignee for the organization of interest."
   ]
  },
  {
   "cell_type": "code",
   "execution_count": 7,
   "metadata": {
    "collapsed": false,
    "deletable": true,
    "editable": true
   },
   "outputs": [
    {
     "name": "stdout",
     "output_type": "stream",
     "text": [
      "We now consider 38648 patents/inventors related to Ericsson.\n",
      "17244 patents.\n",
      "10748 inventors.\n"
     ]
    },
    {
     "data": {
      "text/html": [
       "<div>\n",
       "<table border=\"1\" class=\"dataframe\">\n",
       "  <thead>\n",
       "    <tr style=\"text-align: right;\">\n",
       "      <th></th>\n",
       "      <th>patent_id</th>\n",
       "      <th>inventor_id</th>\n",
       "    </tr>\n",
       "  </thead>\n",
       "  <tbody>\n",
       "    <tr>\n",
       "      <th>112</th>\n",
       "      <td>6897736</td>\n",
       "      <td>5802458-1</td>\n",
       "    </tr>\n",
       "    <tr>\n",
       "      <th>286</th>\n",
       "      <td>9300460</td>\n",
       "      <td>8446886-5</td>\n",
       "    </tr>\n",
       "    <tr>\n",
       "      <th>295</th>\n",
       "      <td>8626086</td>\n",
       "      <td>8005439-1</td>\n",
       "    </tr>\n",
       "    <tr>\n",
       "      <th>642</th>\n",
       "      <td>9520961</td>\n",
       "      <td>7561586-3</td>\n",
       "    </tr>\n",
       "  </tbody>\n",
       "</table>\n",
       "</div>"
      ],
      "text/plain": [
       "    patent_id inventor_id\n",
       "112   6897736   5802458-1\n",
       "286   9300460   8446886-5\n",
       "295   8626086   8005439-1\n",
       "642   9520961   7561586-3"
      ]
     },
     "execution_count": 7,
     "metadata": {},
     "output_type": "execute_result"
    }
   ],
   "source": [
    "patent_inventor = pd.read_csv('patent_inventor.tsv',\n",
    "                              dtype={'patent_id' : 'str',\n",
    "                                     'inventor_id' : 'str'},\n",
    "                              sep='\\t', \n",
    "                              encoding='latin_1')\n",
    "patent_inventor = patent_inventor[patent_inventor.patent_id.isin(patent_assignee.patent_id.unique())]\n",
    "print('We now consider {} patents/inventors related to {}.'.format(len(patent_inventor),compagny))\n",
    "print('{} patents.'.format(len(patent_inventor.patent_id.unique())))\n",
    "print('{} inventors.'.format(len(patent_inventor.inventor_id.unique())))\n",
    "patent_inventor.head(4)"
   ]
  },
  {
   "cell_type": "markdown",
   "metadata": {
    "deletable": true,
    "editable": true
   },
   "source": [
    "## Import inventors details (names)\n",
    "Load in the inventors details and filter to reduce size.\n",
    "Keep only the inventors selected above."
   ]
  },
  {
   "cell_type": "code",
   "execution_count": 8,
   "metadata": {
    "collapsed": false,
    "deletable": true,
    "editable": true
   },
   "outputs": [
    {
     "name": "stdout",
     "output_type": "stream",
     "text": [
      "We now consider 10748 inventors related to Ericsson.\n"
     ]
    },
    {
     "data": {
      "text/html": [
       "<div>\n",
       "<table border=\"1\" class=\"dataframe\">\n",
       "  <thead>\n",
       "    <tr style=\"text-align: right;\">\n",
       "      <th></th>\n",
       "      <th>id</th>\n",
       "      <th>name_first</th>\n",
       "      <th>name_last</th>\n",
       "    </tr>\n",
       "  </thead>\n",
       "  <tbody>\n",
       "    <tr>\n",
       "      <th>2340</th>\n",
       "      <td>3931633-1</td>\n",
       "      <td>John M.</td>\n",
       "      <td>Shannon</td>\n",
       "    </tr>\n",
       "    <tr>\n",
       "      <th>3573</th>\n",
       "      <td>3932408-2</td>\n",
       "      <td>Frank A.</td>\n",
       "      <td>Muller</td>\n",
       "    </tr>\n",
       "    <tr>\n",
       "      <th>3866</th>\n",
       "      <td>3932550-2</td>\n",
       "      <td>Takahiro</td>\n",
       "      <td>Sato</td>\n",
       "    </tr>\n",
       "    <tr>\n",
       "      <th>6329</th>\n",
       "      <td>3934093-1</td>\n",
       "      <td>Per-Olof</td>\n",
       "      <td>Thyselius</td>\n",
       "    </tr>\n",
       "  </tbody>\n",
       "</table>\n",
       "</div>"
      ],
      "text/plain": [
       "             id name_first  name_last\n",
       "2340  3931633-1    John M.    Shannon\n",
       "3573  3932408-2   Frank A.     Muller\n",
       "3866  3932550-2   Takahiro       Sato\n",
       "6329  3934093-1   Per-Olof  Thyselius"
      ]
     },
     "execution_count": 8,
     "metadata": {},
     "output_type": "execute_result"
    }
   ],
   "source": [
    "inventor = pd.read_csv('inventor.tsv', \n",
    "                       dtype={'id' : 'str',\n",
    "                              'name_first' : 'str',\n",
    "                              'name_last' : 'str'},\n",
    "                       sep='\\t', \n",
    "                       encoding='latin_1')\n",
    "inventor = inventor[inventor.id.isin(patent_inventor.inventor_id.unique())]\n",
    "print('We now consider {} inventors related to {}.'.format(len(inventor),compagny))\n",
    "inventor.head(4)"
   ]
  },
  {
   "cell_type": "markdown",
   "metadata": {
    "deletable": true,
    "editable": true
   },
   "source": [
    "## Import the patent details\n",
    "Load in the patent information and filter to reduce size.\n",
    "Keep only the patents selected above."
   ]
  },
  {
   "cell_type": "code",
   "execution_count": 9,
   "metadata": {
    "collapsed": false,
    "deletable": true,
    "editable": true
   },
   "outputs": [
    {
     "name": "stdout",
     "output_type": "stream",
     "text": [
      "We now consider 17244 patents related to Ericsson.\n"
     ]
    },
    {
     "data": {
      "text/html": [
       "<div>\n",
       "<table border=\"1\" class=\"dataframe\">\n",
       "  <thead>\n",
       "    <tr style=\"text-align: right;\">\n",
       "      <th></th>\n",
       "      <th>id</th>\n",
       "      <th>type</th>\n",
       "      <th>number</th>\n",
       "      <th>country</th>\n",
       "      <th>date</th>\n",
       "      <th>abstract</th>\n",
       "      <th>title</th>\n",
       "      <th>kind</th>\n",
       "      <th>num_claims</th>\n",
       "      <th>filename</th>\n",
       "    </tr>\n",
       "  </thead>\n",
       "  <tbody>\n",
       "    <tr>\n",
       "      <th>3818</th>\n",
       "      <td>3934093</td>\n",
       "      <td>utility</td>\n",
       "      <td>3934093</td>\n",
       "      <td>US</td>\n",
       "      <td>1976-01-20</td>\n",
       "      <td>The present invention relates to a transit ex...</td>\n",
       "      <td>Transit exchange for asynchronous data with un...</td>\n",
       "      <td>A</td>\n",
       "      <td>8</td>\n",
       "      <td>pftaps19760120_wk03.txt</td>\n",
       "    </tr>\n",
       "    <tr>\n",
       "      <th>6337</th>\n",
       "      <td>3936612</td>\n",
       "      <td>utility</td>\n",
       "      <td>3936612</td>\n",
       "      <td>US</td>\n",
       "      <td>1976-02-03</td>\n",
       "      <td>In a relay matrix there are provided a plural...</td>\n",
       "      <td>Control and holding circuit for relay matrices</td>\n",
       "      <td>A</td>\n",
       "      <td>11</td>\n",
       "      <td>pftaps19760203_wk05.txt</td>\n",
       "    </tr>\n",
       "    <tr>\n",
       "      <th>6506</th>\n",
       "      <td>3936781</td>\n",
       "      <td>utility</td>\n",
       "      <td>3936781</td>\n",
       "      <td>US</td>\n",
       "      <td>1976-02-03</td>\n",
       "      <td>Selecting device for crossbar switches of the...</td>\n",
       "      <td>Selecting device for crossbar switches</td>\n",
       "      <td>A</td>\n",
       "      <td>10</td>\n",
       "      <td>pftaps19760203_wk05.txt</td>\n",
       "    </tr>\n",
       "    <tr>\n",
       "      <th>7750</th>\n",
       "      <td>3938025</td>\n",
       "      <td>utility</td>\n",
       "      <td>3938025</td>\n",
       "      <td>US</td>\n",
       "      <td>1976-02-10</td>\n",
       "      <td>A DC to DC converter which gives two individu...</td>\n",
       "      <td>DC to DC converter for producing two individua...</td>\n",
       "      <td>A</td>\n",
       "      <td>5</td>\n",
       "      <td>pftaps19760210_wk06.txt</td>\n",
       "    </tr>\n",
       "  </tbody>\n",
       "</table>\n",
       "</div>"
      ],
      "text/plain": [
       "           id     type   number country        date  \\\n",
       "3818  3934093  utility  3934093      US  1976-01-20   \n",
       "6337  3936612  utility  3936612      US  1976-02-03   \n",
       "6506  3936781  utility  3936781      US  1976-02-03   \n",
       "7750  3938025  utility  3938025      US  1976-02-10   \n",
       "\n",
       "                                               abstract  \\\n",
       "3818   The present invention relates to a transit ex...   \n",
       "6337   In a relay matrix there are provided a plural...   \n",
       "6506   Selecting device for crossbar switches of the...   \n",
       "7750   A DC to DC converter which gives two individu...   \n",
       "\n",
       "                                                  title kind  num_claims  \\\n",
       "3818  Transit exchange for asynchronous data with un...    A           8   \n",
       "6337     Control and holding circuit for relay matrices    A          11   \n",
       "6506             Selecting device for crossbar switches    A          10   \n",
       "7750  DC to DC converter for producing two individua...    A           5   \n",
       "\n",
       "                     filename  \n",
       "3818  pftaps19760120_wk03.txt  \n",
       "6337  pftaps19760203_wk05.txt  \n",
       "6506  pftaps19760203_wk05.txt  \n",
       "7750  pftaps19760210_wk06.txt  "
      ]
     },
     "execution_count": 9,
     "metadata": {},
     "output_type": "execute_result"
    }
   ],
   "source": [
    "iter_csv = pd.read_csv('patent.tsv',\n",
    "                       dtype={'id' : 'str',\n",
    "                              'type' : 'str',\n",
    "                              'number' : 'str',\n",
    "                              'country' : 'str',\n",
    "                              'date' : datetime,\n",
    "                              'abstract' : 'str',\n",
    "                              'title' : 'str',\n",
    "                              'kind' : 'str',\n",
    "                              'num_claims' : 'int',\n",
    "                              'filename' : 'str'},\n",
    "                       iterator=True, \n",
    "                       chunksize=100000, # In case of memory exhaustion, chuncksize can be reduced.\n",
    "                       sep='\\t', \n",
    "                       encoding='latin_1')\n",
    "patent = pd.concat([chunk[chunk.id.isin(patent_assignee.patent_id.unique())] for chunk in iter_csv])\n",
    "print('We now consider {} patents related to {}.'.format(len(patent),compagny))\n",
    "patent.head(4)"
   ]
  },
  {
   "cell_type": "markdown",
   "metadata": {
    "deletable": true,
    "editable": true
   },
   "source": [
    "## Limit the scope of patents after a specified date"
   ]
  },
  {
   "cell_type": "code",
   "execution_count": 10,
   "metadata": {
    "collapsed": false,
    "deletable": true,
    "editable": true
   },
   "outputs": [
    {
     "name": "stdout",
     "output_type": "stream",
     "text": [
      "We now consider 26222 patents/inventors related to Ericsson from 2006-01-01.\n",
      "10856 patents.\n",
      "7023 inventors.\n"
     ]
    },
    {
     "data": {
      "text/html": [
       "<div>\n",
       "<table border=\"1\" class=\"dataframe\">\n",
       "  <thead>\n",
       "    <tr style=\"text-align: right;\">\n",
       "      <th></th>\n",
       "      <th>patent_id</th>\n",
       "      <th>inventor_id</th>\n",
       "    </tr>\n",
       "  </thead>\n",
       "  <tbody>\n",
       "    <tr>\n",
       "      <th>286</th>\n",
       "      <td>9300460</td>\n",
       "      <td>8446886-5</td>\n",
       "    </tr>\n",
       "    <tr>\n",
       "      <th>295</th>\n",
       "      <td>8626086</td>\n",
       "      <td>8005439-1</td>\n",
       "    </tr>\n",
       "    <tr>\n",
       "      <th>642</th>\n",
       "      <td>9520961</td>\n",
       "      <td>7561586-3</td>\n",
       "    </tr>\n",
       "    <tr>\n",
       "      <th>665</th>\n",
       "      <td>8861623</td>\n",
       "      <td>6452524-2</td>\n",
       "    </tr>\n",
       "  </tbody>\n",
       "</table>\n",
       "</div>"
      ],
      "text/plain": [
       "    patent_id inventor_id\n",
       "286   9300460   8446886-5\n",
       "295   8626086   8005439-1\n",
       "642   9520961   7561586-3\n",
       "665   8861623   6452524-2"
      ]
     },
     "execution_count": 10,
     "metadata": {},
     "output_type": "execute_result"
    }
   ],
   "source": [
    "patentfromdate = patent[patent.date>=start_date]\n",
    "patent_inventorfromdate = patent_inventor[patent_inventor.patent_id.isin(patentfromdate.id.unique())]\n",
    "print('We now consider {} patents/inventors related to {} from {}.'.format(len(patent_inventorfromdate), compagny, start_date))\n",
    "print('{} patents.'.format(len(patent_inventorfromdate.patent_id.unique())))\n",
    "print('{} inventors.'.format(len(patent_inventorfromdate.inventor_id.unique())))\n",
    "patent_inventorfromdate.head(4)"
   ]
  },
  {
   "cell_type": "markdown",
   "metadata": {
    "deletable": true,
    "editable": true
   },
   "source": [
    "## Limit the scope of inventors for patents after a specified date"
   ]
  },
  {
   "cell_type": "code",
   "execution_count": 48,
   "metadata": {
    "collapsed": false,
    "deletable": true,
    "editable": true
   },
   "outputs": [
    {
     "name": "stdout",
     "output_type": "stream",
     "text": [
      "We now consider 7023 inventors related to Ericsson from 2006-01-01.\n"
     ]
    },
    {
     "data": {
      "text/html": [
       "<div>\n",
       "<table border=\"1\" class=\"dataframe\">\n",
       "  <thead>\n",
       "    <tr style=\"text-align: right;\">\n",
       "      <th></th>\n",
       "      <th>id</th>\n",
       "      <th>name_first</th>\n",
       "      <th>name_last</th>\n",
       "    </tr>\n",
       "  </thead>\n",
       "  <tbody>\n",
       "    <tr>\n",
       "      <th>2340</th>\n",
       "      <td>3931633-1</td>\n",
       "      <td>John M.</td>\n",
       "      <td>Shannon</td>\n",
       "    </tr>\n",
       "    <tr>\n",
       "      <th>3573</th>\n",
       "      <td>3932408-2</td>\n",
       "      <td>Frank A.</td>\n",
       "      <td>Muller</td>\n",
       "    </tr>\n",
       "    <tr>\n",
       "      <th>3866</th>\n",
       "      <td>3932550-2</td>\n",
       "      <td>Takahiro</td>\n",
       "      <td>Sato</td>\n",
       "    </tr>\n",
       "    <tr>\n",
       "      <th>6329</th>\n",
       "      <td>3934093-1</td>\n",
       "      <td>Per-Olof</td>\n",
       "      <td>Thyselius</td>\n",
       "    </tr>\n",
       "  </tbody>\n",
       "</table>\n",
       "</div>"
      ],
      "text/plain": [
       "             id name_first  name_last\n",
       "2340  3931633-1    John M.    Shannon\n",
       "3573  3932408-2   Frank A.     Muller\n",
       "3866  3932550-2   Takahiro       Sato\n",
       "6329  3934093-1   Per-Olof  Thyselius"
      ]
     },
     "execution_count": 48,
     "metadata": {},
     "output_type": "execute_result"
    }
   ],
   "source": [
    "inventorfromdate = inventor[inventor.id.isin(patent_inventorfromdate.inventor_id.unique())]\n",
    "print('We now consider {} inventors related to {} from {}.'.format(len(inventorfromdate), compagny, start_date))\n",
    "inventor.head(4)"
   ]
  },
  {
   "cell_type": "markdown",
   "metadata": {
    "deletable": true,
    "editable": true
   },
   "source": [
    "## Build the edges table for Gephi\n",
    "Now we need an inventor to inventor table. The edges of the relationship graph.\n",
    "For performance reasons we keep only one direction of the graph (non directed graph)."
   ]
  },
  {
   "cell_type": "code",
   "execution_count": 90,
   "metadata": {
    "collapsed": false,
    "deletable": true,
    "editable": true
   },
   "outputs": [
    {
     "data": {
      "text/html": [
       "<div>\n",
       "<table border=\"1\" class=\"dataframe\">\n",
       "  <thead>\n",
       "    <tr style=\"text-align: right;\">\n",
       "      <th></th>\n",
       "      <th>Source</th>\n",
       "      <th>Target</th>\n",
       "      <th>Type</th>\n",
       "    </tr>\n",
       "  </thead>\n",
       "  <tbody>\n",
       "    <tr>\n",
       "      <th>0</th>\n",
       "      <td>8446886-5</td>\n",
       "      <td>9300460-5</td>\n",
       "      <td>Undirected</td>\n",
       "    </tr>\n",
       "    <tr>\n",
       "      <th>1</th>\n",
       "      <td>8446886-5</td>\n",
       "      <td>8649423-2</td>\n",
       "      <td>Undirected</td>\n",
       "    </tr>\n",
       "    <tr>\n",
       "      <th>2</th>\n",
       "      <td>8446886-5</td>\n",
       "      <td>9300460-4</td>\n",
       "      <td>Undirected</td>\n",
       "    </tr>\n",
       "    <tr>\n",
       "      <th>3</th>\n",
       "      <td>8446886-5</td>\n",
       "      <td>6347542-1</td>\n",
       "      <td>Undirected</td>\n",
       "    </tr>\n",
       "  </tbody>\n",
       "</table>\n",
       "</div>"
      ],
      "text/plain": [
       "      Source     Target        Type\n",
       "0  8446886-5  9300460-5  Undirected\n",
       "1  8446886-5  8649423-2  Undirected\n",
       "2  8446886-5  9300460-4  Undirected\n",
       "3  8446886-5  6347542-1  Undirected"
      ]
     },
     "execution_count": 90,
     "metadata": {},
     "output_type": "execute_result"
    }
   ],
   "source": [
    "edges = pd.DataFrame(columns=('Source', 'Target'))\n",
    "idx = 0\n",
    "for p_id in patent_inventorfromdate.patent_id.unique():\n",
    "    df = patent_inventorfromdate[patent_inventorfromdate.patent_id==p_id]\n",
    "    for i_id in df.inventor_id.unique():\n",
    "        for j_id in df.inventor_id.unique():\n",
    "            if i_id != j_id:\n",
    "                m = hashlib.md5()\n",
    "                m.update(i_id.encode('utf-8'))\n",
    "                i = int(m.hexdigest(),16)\n",
    "                m = hashlib.md5()\n",
    "                m.update(j_id.encode('utf-8'))\n",
    "                j = int(m.hexdigest(),16)\n",
    "                if i>j:\n",
    "                    edges.loc[idx] = [i_id, j_id]\n",
    "                    idx += 1\n",
    "edges['Type'] = 'Undirected'\n",
    "edges.head(4)"
   ]
  },
  {
   "cell_type": "markdown",
   "metadata": {
    "deletable": true,
    "editable": true
   },
   "source": [
    "## Build the node table for Gephi"
   ]
  },
  {
   "cell_type": "code",
   "execution_count": 93,
   "metadata": {
    "collapsed": false,
    "deletable": true,
    "editable": true
   },
   "outputs": [
    {
     "name": "stdout",
     "output_type": "stream",
     "text": [
      "Weight (number of patents) range from 1 to 221.\n",
      "(Number of) Connections range from 0 to 437.\n"
     ]
    },
    {
     "data": {
      "text/html": [
       "<div>\n",
       "<table border=\"1\" class=\"dataframe\">\n",
       "  <thead>\n",
       "    <tr style=\"text-align: right;\">\n",
       "      <th></th>\n",
       "      <th>id</th>\n",
       "      <th>Label</th>\n",
       "      <th>Weight</th>\n",
       "      <th>Connections</th>\n",
       "    </tr>\n",
       "  </thead>\n",
       "  <tbody>\n",
       "    <tr>\n",
       "      <th>2340</th>\n",
       "      <td>3931633-1</td>\n",
       "      <td>John M. Shannon</td>\n",
       "      <td>2</td>\n",
       "      <td>2</td>\n",
       "    </tr>\n",
       "    <tr>\n",
       "      <th>3866</th>\n",
       "      <td>3932550-2</td>\n",
       "      <td>Takahiro Sato</td>\n",
       "      <td>1</td>\n",
       "      <td>8</td>\n",
       "    </tr>\n",
       "    <tr>\n",
       "      <th>8661</th>\n",
       "      <td>3935643-1</td>\n",
       "      <td>Michael Russell</td>\n",
       "      <td>1</td>\n",
       "      <td>1</td>\n",
       "    </tr>\n",
       "    <tr>\n",
       "      <th>12138</th>\n",
       "      <td>3938040-1</td>\n",
       "      <td>Bengt G. Lofmark</td>\n",
       "      <td>1</td>\n",
       "      <td>0</td>\n",
       "    </tr>\n",
       "  </tbody>\n",
       "</table>\n",
       "</div>"
      ],
      "text/plain": [
       "              id             Label  Weight  Connections\n",
       "2340   3931633-1   John M. Shannon       2            2\n",
       "3866   3932550-2     Takahiro Sato       1            8\n",
       "8661   3935643-1   Michael Russell       1            1\n",
       "12138  3938040-1  Bengt G. Lofmark       1            0"
      ]
     },
     "execution_count": 93,
     "metadata": {},
     "output_type": "execute_result"
    }
   ],
   "source": [
    "patentcount = patent_inventorfromdate.groupby('inventor_id').patent_id.count()\n",
    "connectioncount = pd.DataFrame({'id': pd.concat([edges.Source,edges.Target])}).groupby('id').id.count()\n",
    "nodes = inventorfromdate.copy()\n",
    "nodes['Label']=inventorfromdate.name_first+' '+inventorfromdate.name_last\n",
    "nodes['Weight'] = nodes['id'].apply(lambda x: patentcount[x])\n",
    "nodes['Connections'] = nodes['id'].apply(lambda x: connectioncount[x] if x in connectioncount.index else 0)\n",
    "del nodes['name_first']\n",
    "del nodes['name_last']\n",
    "print('Weight (number of patents) range from {} to {}.'.format(nodes.Weight.min(), nodes.Weight.max()))\n",
    "print('(Number of) Connections range from {} to {}.'.format(nodes.Connections.min(), nodes.Connections.max()))\n",
    "nodes.head(4)"
   ]
  },
  {
   "cell_type": "markdown",
   "metadata": {
    "deletable": true,
    "editable": true
   },
   "source": [
    "## Save the results"
   ]
  },
  {
   "cell_type": "code",
   "execution_count": 92,
   "metadata": {
    "collapsed": true,
    "deletable": true,
    "editable": true
   },
   "outputs": [],
   "source": [
    "with open('edges_{}.csv'.format(compagny), 'w') as f:\n",
    "    edges.to_csv(f)\n",
    "with open('nodes_{}.csv'.format(compagny), 'w') as f:\n",
    "    nodes.to_csv(f)"
   ]
  }
 ],
 "metadata": {
  "kernelspec": {
   "display_name": "Python 3",
   "language": "python",
   "name": "python3"
  },
  "language_info": {
   "codemirror_mode": {
    "name": "ipython",
    "version": 3
   },
   "file_extension": ".py",
   "mimetype": "text/x-python",
   "name": "python",
   "nbconvert_exporter": "python",
   "pygments_lexer": "ipython3",
   "version": "3.5.2"
  }
 },
 "nbformat": 4,
 "nbformat_minor": 2
}
